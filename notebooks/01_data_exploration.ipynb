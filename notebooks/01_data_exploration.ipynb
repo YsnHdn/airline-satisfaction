{
 "cells": [
  {
   "cell_type": "code",
   "execution_count": null,
   "metadata": {
    "vscode": {
     "languageId": "plaintext"
    }
   },
   "outputs": [],
   "source": [
    "# Import des bibliothèques nécessaires\n",
    "import pandas as pd\n",
    "import numpy as np\n",
    "import matplotlib.pyplot as plt\n",
    "import seaborn as sns\n",
    "import os\n",
    "import sys\n",
    "\n"
   ]
  },
  {
   "cell_type": "code",
   "execution_count": null,
   "metadata": {
    "vscode": {
     "languageId": "plaintext"
    }
   },
   "outputs": [],
   "source": [
    "# Ajouter le répertoire parent au path pour importer les fonctions du projet\n",
    "sys.path.append('..')\n",
    "from src.preprocessing import load_data, clean_data, get_key_factors\n"
   ]
  },
  {
   "cell_type": "code",
   "execution_count": null,
   "metadata": {
    "vscode": {
     "languageId": "plaintext"
    }
   },
   "outputs": [],
   "source": [
    "# Configuration matplotlib et seaborn\n",
    "plt.style.use('seaborn-v0_8-whitegrid')\n",
    "sns.set_palette('Blues_r')\n",
    "plt.rcParams['figure.figsize'] = (12, 6)\n",
    "plt.rcParams['font.size'] = 12\n",
    "\n"
   ]
  },
  {
   "cell_type": "code",
   "execution_count": null,
   "metadata": {
    "vscode": {
     "languageId": "plaintext"
    }
   },
   "outputs": [],
   "source": [
    "# Supprimer les avertissements\n",
    "import warnings\n",
    "warnings.filterwarnings('ignore')\n",
    "\n"
   ]
  },
  {
   "cell_type": "code",
   "execution_count": null,
   "metadata": {
    "vscode": {
     "languageId": "plaintext"
    }
   },
   "outputs": [],
   "source": [
    "# Chemin vers le fichier de données\n",
    "data_path = '../data/airline_satisfaction.csv'\n",
    "\n",
    "# Charger les données\n",
    "df = load_data(data_path)\n",
    "\n",
    "# Afficher les premières lignes\n",
    "print(f\"Nombre total d'enregistrements: {len(df)}\")\n",
    "df.head()\n",
    "\n"
   ]
  },
  {
   "cell_type": "code",
   "execution_count": null,
   "metadata": {
    "vscode": {
     "languageId": "plaintext"
    }
   },
   "outputs": [],
   "source": [
    "# Informations sur le dataset\n",
    "df.info()\n",
    "\n"
   ]
  },
  {
   "cell_type": "code",
   "execution_count": null,
   "metadata": {
    "vscode": {
     "languageId": "plaintext"
    }
   },
   "outputs": [],
   "source": [
    "# Statistiques descriptives\n",
    "df.describe()"
   ]
  },
  {
   "cell_type": "code",
   "execution_count": null,
   "metadata": {
    "vscode": {
     "languageId": "plaintext"
    }
   },
   "outputs": [],
   "source": [
    "# Vérifier les valeurs manquantes\n",
    "missing_values = df.isnull().sum()\n",
    "missing_values = missing_values[missing_values > 0]\n",
    "\n",
    "if len(missing_values) > 0:\n",
    "    print(\"Colonnes avec des valeurs manquantes:\")\n",
    "    print(missing_values)\n",
    "else:\n",
    "    print(\"Aucune valeur manquante trouvée.\")\n"
   ]
  },
  {
   "cell_type": "code",
   "execution_count": null,
   "metadata": {
    "vscode": {
     "languageId": "plaintext"
    }
   },
   "outputs": [],
   "source": [
    "# Nettoyer les données\n",
    "df_clean = clean_data(df)\n",
    "\n",
    "# Vérifier le résultat\n",
    "print(f\"Nombre d'enregistrements après nettoyage: {len(df_clean)}\")\n",
    "df_clean.head()"
   ]
  },
  {
   "cell_type": "code",
   "execution_count": null,
   "metadata": {
    "vscode": {
     "languageId": "plaintext"
    }
   },
   "outputs": [],
   "source": [
    "# Répartition de la satisfaction\n",
    "if 'satisfaction' in df_clean.columns:\n",
    "    satisfaction_counts = df_clean['satisfaction'].value_counts(normalize=True) * 100\n",
    "    \n",
    "    plt.figure(figsize=(10, 6))\n",
    "    ax = sns.barplot(x=satisfaction_counts.index, y=satisfaction_counts.values)\n",
    "    plt.title('Répartition de la satisfaction des clients (%)')\n",
    "    plt.ylabel('Pourcentage')\n",
    "    plt.xlabel('Satisfaction')\n",
    "    \n",
    "    # Ajouter les pourcentages sur les barres\n",
    "    for i, v in enumerate(satisfaction_counts.values):\n",
    "        ax.text(i, v + 1, f'{v:.1f}%', ha='center')\n",
    "    \n",
    "    plt.show()\n",
    "    \n",
    "    print(f\"Taux de satisfaction global: {df_clean['satisfaction'].mean()*100:.2f}%\")"
   ]
  },
  {
   "cell_type": "code",
   "execution_count": null,
   "metadata": {
    "vscode": {
     "languageId": "plaintext"
    }
   },
   "outputs": [],
   "source": [
    "# Analyse par type de client\n",
    "if 'Customer Type' in df_clean.columns:\n",
    "    plt.figure(figsize=(12, 5))\n",
    "    \n",
    "    # Satisfaction par type de client\n",
    "    customer_satisfaction = df_clean.groupby('Customer Type')['satisfaction'].mean() * 100\n",
    "    \n",
    "    ax = sns.barplot(x=customer_satisfaction.index, y=customer_satisfaction.values)\n",
    "    plt.title('Taux de satisfaction par type de client')\n",
    "    plt.ylabel('Taux de satisfaction (%)')\n",
    "    plt.xlabel('Type de client')\n",
    "    \n",
    "    # Ajouter les pourcentages sur les barres\n",
    "    for i, v in enumerate(customer_satisfaction.values):\n",
    "        ax.text(i, v + 1, f'{v:.1f}%', ha='center')\n",
    "    \n",
    "    plt.show()\n",
    "    \n",
    "    # Répartition des types de clients\n",
    "    plt.figure(figsize=(10, 6))\n",
    "    customer_counts = df_clean['Customer Type'].value_counts(normalize=True) * 100\n",
    "    plt.pie(customer_counts.values, labels=customer_counts.index, autopct='%1.1f%%', startangle=90, shadow=True)\n",
    "    plt.title('Répartition des types de clients')\n",
    "    plt.axis('equal')\n",
    "    plt.show()\n"
   ]
  },
  {
   "cell_type": "code",
   "execution_count": null,
   "metadata": {
    "vscode": {
     "languageId": "plaintext"
    }
   },
   "outputs": [],
   "source": [
    "# Analyse par classe de voyage\n",
    "if 'Class' in df_clean.columns:\n",
    "    plt.figure(figsize=(12, 5))\n",
    "    \n",
    "    # Satisfaction par classe\n",
    "    class_satisfaction = df_clean.groupby('Class')['satisfaction'].mean() * 100\n",
    "    \n",
    "    ax = sns.barplot(x=class_satisfaction.index, y=class_satisfaction.values)\n",
    "    plt.title('Taux de satisfaction par classe de voyage')\n",
    "    plt.ylabel('Taux de satisfaction (%)')\n",
    "    plt.xlabel('Classe')\n",
    "    \n",
    "    # Ajouter les pourcentages sur les barres\n",
    "    for i, v in enumerate(class_satisfaction.values):\n",
    "        ax.text(i, v + 1, f'{v:.1f}%', ha='center')\n",
    "    \n",
    "    plt.show()\n",
    "    \n",
    "    # Répartition des classes\n",
    "    plt.figure(figsize=(10, 6))\n",
    "    class_counts = df_clean['Class'].value_counts(normalize=True) * 100\n",
    "    plt.pie(class_counts.values, labels=class_counts.index, autopct='%1.1f%%', startangle=90, shadow=True)\n",
    "    plt.title('Répartition des classes de voyage')\n",
    "    plt.axis('equal')\n",
    "    plt.show()"
   ]
  },
  {
   "cell_type": "code",
   "execution_count": null,
   "metadata": {
    "vscode": {
     "languageId": "plaintext"
    }
   },
   "outputs": [],
   "source": [
    "# Distribution de l'âge des passagers\n",
    "if 'Age' in df_clean.columns:\n",
    "    plt.figure(figsize=(12, 6))\n",
    "    sns.histplot(data=df_clean, x='Age', bins=30, kde=True)\n",
    "    plt.title('Distribution de l\\'âge des passagers')\n",
    "    plt.xlabel('Âge')\n",
    "    plt.ylabel('Nombre de passagers')\n",
    "    plt.show()\n",
    "    \n",
    "    # Satisfaction par tranche d'âge\n",
    "    plt.figure(figsize=(12, 6))\n",
    "    df_clean['Age Group'] = pd.cut(df_clean['Age'], bins=[0, 20, 30, 40, 50, 60, 100], labels=['<20', '20-30', '30-40', '40-50', '50-60', '>60'])\n",
    "    age_satisfaction = df_clean.groupby('Age Group')['satisfaction'].mean() * 100\n",
    "    \n",
    "    ax = sns.barplot(x=age_satisfaction.index, y=age_satisfaction.values)\n",
    "    plt.title('Taux de satisfaction par tranche d\\'âge')\n",
    "    plt.ylabel('Taux de satisfaction (%)')\n",
    "    plt.xlabel('Tranche d\\'âge')\n",
    "    \n",
    "    # Ajouter les pourcentages sur les barres\n",
    "    for i, v in enumerate(age_satisfaction.values):\n",
    "        ax.text(i, v + 1, f'{v:.1f}%', ha='center')\n",
    "    \n",
    "    plt.show()"
   ]
  },
  {
   "cell_type": "code",
   "execution_count": null,
   "metadata": {
    "vscode": {
     "languageId": "plaintext"
    }
   },
   "outputs": [],
   "source": [
    "# Analyse de la distance de vol\n",
    "if 'Flight Distance' in df_clean.columns:\n",
    "    plt.figure(figsize=(12, 6))\n",
    "    sns.histplot(data=df_clean, x='Flight Distance', bins=30, kde=True)\n",
    "    plt.title('Distribution des distances de vol')\n",
    "    plt.xlabel('Distance (miles)')\n",
    "    plt.ylabel('Nombre de vols')\n",
    "    plt.show()\n",
    "    \n",
    "    # Créer des catégories de distance\n",
    "    df_clean['Distance Category'] = pd.cut(\n",
    "        df_clean['Flight Distance'], \n",
    "        bins=[0, 500, 1000, 2000, 5000, float('inf')], \n",
    "        labels=['<500', '500-1000', '1000-2000', '2000-5000', '>5000']\n",
    "    )\n",
    "    \n",
    "    # Satisfaction par catégorie de distance\n",
    "    plt.figure(figsize=(12, 6))\n",
    "    distance_satisfaction = df_clean.groupby('Distance Category')['satisfaction'].mean() * 100\n",
    "    \n",
    "    ax = sns.barplot(x=distance_satisfaction.index, y=distance_satisfaction.values)\n",
    "    plt.title('Taux de satisfaction par catégorie de distance')\n",
    "    plt.ylabel('Taux de satisfaction (%)')\n",
    "    plt.xlabel('Catégorie de distance (miles)')\n",
    "    \n",
    "    # Ajouter les pourcentages sur les barres\n",
    "    for i, v in enumerate(distance_satisfaction.values):\n",
    "        ax.text(i, v + 1, f'{v:.1f}%', ha='center')\n",
    "    \n",
    "    plt.show()"
   ]
  },
  {
   "cell_type": "code",
   "execution_count": null,
   "metadata": {
    "vscode": {
     "languageId": "plaintext"
    }
   },
   "outputs": [],
   "source": [
    "# Analyse des évaluations des services\n",
    "service_columns = [col for col in df_clean.columns if col not in ['id', 'satisfaction', 'Age', 'Flight Distance', 'Customer Type', 'Class', 'Type of Travel', 'Age Group', 'Distance Category']]"
   ]
  },
  {
   "cell_type": "code",
   "execution_count": null,
   "metadata": {
    "vscode": {
     "languageId": "plaintext"
    }
   },
   "outputs": [],
   "source": [
    "# Filtrer uniquement les colonnes numériques qui sont probablement des évaluations (de 0 à 5)\n",
    "rating_columns = []\n",
    "for col in service_columns:\n",
    "    if df_clean[col].dtype in ['int64', 'float64']:\n",
    "        if df_clean[col].min() >= 0 and df_clean[col].max() <= 5:\n",
    "            rating_columns.append(col)\n",
    "\n",
    "if rating_columns:\n",
    "    # Créer un dataframe avec les évaluations moyennes et les classer\n",
    "    ratings_df = pd.DataFrame({\n",
    "        'Service': rating_columns,\n",
    "        'Average Rating': [df_clean[col].mean() for col in rating_columns],\n",
    "        'Satisfaction Correlation': [df_clean[['satisfaction', col]].corr().iloc[0, 1] for col in rating_columns]\n",
    "    })\n",
    "    \n",
    "    # Trier par corrélation avec la satisfaction\n",
    "    ratings_df = ratings_df.sort_values('Satisfaction Correlation', ascending=False)\n",
    "    \n",
    "    # Afficher le tableau\n",
    "    print(\"Services classés par corrélation avec la satisfaction:\")\n",
    "    display(ratings_df)\n",
    "    \n",
    "    # Visualiser les évaluations moyennes\n",
    "    plt.figure(figsize=(14, 6))\n",
    "    avg_ratings = ratings_df.sort_values('Average Rating', ascending=False)\n",
    "    ax = sns.barplot(x='Average Rating', y='Service', data=avg_ratings)\n",
    "    plt.title('Évaluation moyenne des services')\n",
    "    plt.xlabel('Évaluation moyenne')\n",
    "    plt.ylabel('Service')\n",
    "    \n",
    "    # Ajouter les valeurs sur les barres\n",
    "    for i, v in enumerate(avg_ratings['Average Rating']):\n",
    "        ax.text(v + 0.05, i, f'{v:.2f}', va='center')\n",
    "    \n",
    "    plt.tight_layout()\n",
    "    plt.show()\n",
    "    \n",
    "    # Visualiser les corrélations avec la satisfaction\n",
    "    plt.figure(figsize=(14, 8))\n",
    "    corr_ratings = ratings_df.copy()\n",
    "    ax = sns.barplot(x='Satisfaction Correlation', y='Service', data=corr_ratings)\n",
    "    plt.title('Corrélation des services avec la satisfaction client')\n",
    "    plt.xlabel('Corrélation avec la satisfaction')\n",
    "    plt.ylabel('Service')\n",
    "    \n",
    "    # Ajouter les valeurs sur les barres\n",
    "    for i, v in enumerate(corr_ratings['Satisfaction Correlation']):\n",
    "        ax.text(v + 0.01, i, f'{v:.3f}', va='center')\n",
    "    \n",
    "    plt.tight_layout()\n",
    "    plt.show()"
   ]
  },
  {
   "cell_type": "code",
   "execution_count": null,
   "metadata": {
    "vscode": {
     "languageId": "plaintext"
    }
   },
   "outputs": [],
   "source": [
    "# Matrice de corrélation pour les variables numériques\n",
    "numeric_columns = df_clean.select_dtypes(include=['int64', 'float64']).columns.tolist()\n",
    "if 'id' in numeric_columns:\n",
    "    numeric_columns.remove('id')\n",
    "\n",
    "if len(numeric_columns) > 1:\n",
    "    plt.figure(figsize=(16, 12))\n",
    "    correlation_matrix = df_clean[numeric_columns].corr()\n",
    "    mask = np.triu(np.ones_like(correlation_matrix, dtype=bool))\n",
    "    sns.heatmap(correlation_matrix, mask=mask, annot=True, fmt='.2f', cmap='Blues', cbar_kws={'label': 'Corrélation'})\n",
    "    plt.title('Matrice de corrélation des variables numériques')\n",
    "    plt.tight_layout()\n",
    "    plt.show()\n",
    "\n",
    "print(\"\\n## Analyse terminée ##\")"
   ]
  }
 ],
 "metadata": {
  "language_info": {
   "name": "python"
  }
 },
 "nbformat": 4,
 "nbformat_minor": 2
}
