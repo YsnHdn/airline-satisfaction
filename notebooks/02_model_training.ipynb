{
 "cells": [
  {
   "cell_type": "code",
   "execution_count": null,
   "metadata": {
    "vscode": {
     "languageId": "plaintext"
    }
   },
   "outputs": [],
   "source": [
    "# Import des bibliothèques nécessaires\n",
    "import pandas as pd\n",
    "import numpy as np\n",
    "import matplotlib.pyplot as plt\n",
    "import seaborn as sns\n",
    "import os\n",
    "import sys\n",
    "import joblib\n",
    "\n",
    "from sklearn.model_selection import train_test_split, cross_val_score, GridSearchCV\n",
    "from sklearn.preprocessing import StandardScaler, OneHotEncoder\n",
    "from sklearn.compose import ColumnTransformer\n",
    "from sklearn.pipeline import Pipeline\n",
    "from sklearn.impute import SimpleImputer\n",
    "from sklearn.ensemble import RandomForestClassifier, GradientBoostingClassifier\n",
    "from sklearn.linear_model import LogisticRegression\n",
    "from sklearn.metrics import accuracy_score, precision_score, recall_score, f1_score, confusion_matrix\n",
    "from sklearn.metrics import classification_report, roc_curve, auc, roc_auc_score"
   ]
  },
  {
   "cell_type": "code",
   "execution_count": null,
   "metadata": {
    "vscode": {
     "languageId": "plaintext"
    }
   },
   "outputs": [],
   "source": [
    "# Ajouter le répertoire parent au path pour importer les fonctions du projet\n",
    "sys.path.append('..')\n",
    "from src.preprocessing import load_data, clean_data, create_preprocessing_pipeline\n",
    "from src.model import train_model, evaluate_model, plot_feature_importance"
   ]
  },
  {
   "cell_type": "code",
   "execution_count": null,
   "metadata": {
    "vscode": {
     "languageId": "plaintext"
    }
   },
   "outputs": [],
   "source": [
    "# Configuration matplotlib et seaborn\n",
    "plt.style.use('seaborn-v0_8-whitegrid')\n",
    "sns.set_palette('Blues_r')\n",
    "plt.rcParams['figure.figsize'] = (12, 6)\n",
    "plt.rcParams['font.size'] = 12"
   ]
  },
  {
   "cell_type": "code",
   "execution_count": null,
   "metadata": {
    "vscode": {
     "languageId": "plaintext"
    }
   },
   "outputs": [],
   "source": [
    "# Supprimer les avertissements\n",
    "import warnings\n",
    "warnings.filterwarnings('ignore')\n",
    "\n",
    "# Chemin vers le fichier de données\n",
    "data_path = '../data/airline_satisfaction.csv'"
   ]
  },
  {
   "cell_type": "code",
   "execution_count": null,
   "metadata": {
    "vscode": {
     "languageId": "plaintext"
    }
   },
   "outputs": [],
   "source": [
    "# Charger et nettoyer les données\n",
    "df = load_data(data_path)\n",
    "df_clean = clean_data(df)\n",
    "\n",
    "# Afficher un aperçu des données préparées\n",
    "print(f\"Nombre total d'enregistrements: {len(df_clean)}\")\n",
    "df_clean.head()"
   ]
  },
  {
   "cell_type": "code",
   "execution_count": null,
   "metadata": {
    "vscode": {
     "languageId": "plaintext"
    }
   },
   "outputs": [],
   "source": [
    "# Préparer les features et la cible\n",
    "if 'satisfaction' in df_clean.columns:\n",
    "    X = df_clean.drop('satisfaction', axis=1)\n",
    "    y = df_clean['satisfaction']\n",
    "    \n",
    "    # Supprimer la colonne ID si elle existe\n",
    "    if 'id' in X.columns:\n",
    "        X = X.drop('id', axis=1)\n",
    "    \n",
    "    print(f\"Forme des features (X): {X.shape}\")\n",
    "    print(f\"Forme de la cible (y): {y.shape}\")\n",
    "    print(f\"Répartition de la cible: {y.value_counts(normalize=True) * 100}\")\n",
    "else:\n",
    "    print(\"Erreur: Colonne 'satisfaction' introuvable dans les données.\")"
   ]
  },
  {
   "cell_type": "code",
   "execution_count": null,
   "metadata": {
    "vscode": {
     "languageId": "plaintext"
    }
   },
   "outputs": [],
   "source": [
    "# Diviser les données en ensembles d'entraînement et de test\n",
    "X_train, X_test, y_train, y_test = train_test_split(X, y, test_size=0.3, random_state=42)\n",
    "\n",
    "print(f\"Taille de l'ensemble d'entraînement: {X_train.shape[0]} échantillons\")\n",
    "print(f\"Taille de l'ensemble de test: {X_test.shape[0]} échantillons\")"
   ]
  },
  {
   "cell_type": "code",
   "execution_count": null,
   "metadata": {
    "vscode": {
     "languageId": "plaintext"
    }
   },
   "outputs": [],
   "source": [
    "# Identifier les variables catégorielles et numériques\n",
    "cat_features = X.select_dtypes(include=['object']).columns.tolist()\n",
    "num_features = X.select_dtypes(include=['number']).columns.tolist()\n",
    "\n",
    "print(f\"Variables catégorielles: {cat_features}\")\n",
    "print(f\"Variables numériques: {num_features}\")\n",
    "\n",
    "# Créer le pipeline de prétraitement\n",
    "preprocessor = create_preprocessing_pipeline(X)\n",
    "\n",
    "# Créer un pipeline complet avec le prétraitement et un modèle de base\n",
    "model_pipeline = Pipeline(steps=[\n",
    "    ('preprocessor', preprocessor),\n",
    "    ('classifier', RandomForestClassifier(n_estimators=100, random_state=42))\n",
    "])"
   ]
  },
  {
   "cell_type": "code",
   "execution_count": null,
   "metadata": {
    "vscode": {
     "languageId": "plaintext"
    }
   },
   "outputs": [],
   "source": [
    "# Entraîner le modèle de base\n",
    "model_pipeline.fit(X_train, y_train)\n",
    "\n",
    "# Faire des prédictions sur l'ensemble de test\n",
    "y_pred = model_pipeline.predict(X_test)"
   ]
  },
  {
   "cell_type": "code",
   "execution_count": null,
   "metadata": {
    "vscode": {
     "languageId": "plaintext"
    }
   },
   "outputs": [],
   "source": [
    "# Évaluer le modèle\n",
    "print(\"Évaluation du modèle de base (Random Forest):\")\n",
    "print(f\"Accuracy: {accuracy_score(y_test, y_pred):.4f}\")\n",
    "print(f\"Precision: {precision_score(y_test, y_pred):.4f}\")\n",
    "print(f\"Recall: {recall_score(y_test, y_pred):.4f}\")\n",
    "print(f\"F1 Score: {f1_score(y_test, y_pred):.4f}\")"
   ]
  },
  {
   "cell_type": "code",
   "execution_count": null,
   "metadata": {
    "vscode": {
     "languageId": "plaintext"
    }
   },
   "outputs": [],
   "source": [
    "# Afficher le rapport de classification\n",
    "print(\"\\nRapport de classification détaillé:\")\n",
    "print(classification_report(y_test, y_pred))\n",
    "\n",
    "# Matrice de confusion\n",
    "cm = confusion_matrix(y_test, y_pred)\n",
    "plt.figure(figsize=(8, 6))\n",
    "sns.heatmap(cm, annot=True, fmt='d', cmap='Blues')\n",
    "plt.title('Matrice de confusion')\n",
    "plt.ylabel('Valeur réelle')\n",
    "plt.xlabel('Valeur prédite')\n",
    "plt.show()"
   ]
  },
  {
   "cell_type": "code",
   "execution_count": null,
   "metadata": {
    "vscode": {
     "languageId": "plaintext"
    }
   },
   "outputs": [],
   "source": [
    "# Définir plusieurs modèles à comparer\n",
    "models = {\n",
    "    'Logistic Regression': LogisticRegression(max_iter=1000, random_state=42),\n",
    "    'Random Forest': RandomForestClassifier(n_estimators=100, random_state=42),\n",
    "    'Gradient Boosting': GradientBoostingClassifier(n_estimators=100, random_state=42)\n",
    "}\n",
    "\n",
    "# Stocker les résultats\n",
    "results = []\n",
    "\n",
    "for name, model in models.items():\n",
    "    # Créer un pipeline avec le prétraitement et le modèle\n",
    "    pipeline = Pipeline(steps=[\n",
    "        ('preprocessor', preprocessor),\n",
    "        ('classifier', model)\n",
    "    ])\n",
    "    \n",
    "    # Entraîner le modèle\n",
    "    pipeline.fit(X_train, y_train)\n",
    "    \n",
    "    # Faire des prédictions\n",
    "    y_pred = pipeline.predict(X_test)\n",
    "    \n",
    "    # Calculer les métriques\n",
    "    accuracy = accuracy_score(y_test, y_pred)\n",
    "    precision = precision_score(y_test, y_pred)\n",
    "    recall = recall_score(y_test, y_pred)\n",
    "    f1 = f1_score(y_test, y_pred)\n",
    "    \n",
    "    # Calculer l'AUC-ROC si le modèle supporte predict_proba\n",
    "    if hasattr(model, 'predict_proba'):\n",
    "        y_prob = pipeline.predict_proba(X_test)[:, 1]\n",
    "        auc_roc = roc_auc_score(y_test, y_prob)\n",
    "    else:\n",
    "        auc_roc = None\n",
    "    \n",
    "    # Ajouter les résultats\n",
    "    results.append({\n",
    "        'Model': name,\n",
    "        'Accuracy': accuracy,\n",
    "        'Precision': precision,\n",
    "        'Recall': recall,\n",
    "        'F1 Score': f1,\n",
    "        'AUC-ROC': auc_roc,\n",
    "        'Pipeline': pipeline\n",
    "    })\n"
   ]
  },
  {
   "cell_type": "code",
   "execution_count": null,
   "metadata": {
    "vscode": {
     "languageId": "plaintext"
    }
   },
   "outputs": [],
   "source": [
    "# Afficher les résultats\n",
    "results_df = pd.DataFrame(results).drop('Pipeline', axis=1)\n",
    "results_df\n",
    "\n",
    "# Visualiser les résultats\n",
    "plt.figure(figsize=(14, 6))\n",
    "metrics = ['Accuracy', 'Precision', 'Recall', 'F1 Score']\n",
    "\n",
    "results_melted = pd.melt(results_df, id_vars=['Model'], value_vars=metrics, var_name='Metric', value_name='Score')\n",
    "sns.barplot(x='Model', y='Score', hue='Metric', data=results_melted)\n",
    "plt.title('Comparaison des modèles')\n",
    "plt.ylabel('Score')\n",
    "plt.ylim(0.7, 1.0)  # Ajuster selon vos résultats\n",
    "plt.legend(title='Métrique')\n",
    "plt.show()\n",
    "\n",
    "# Courbes ROC pour tous les modèles\n",
    "plt.figure(figsize=(10, 8))\n",
    "\n",
    "for result in results:\n",
    "    if result['AUC-ROC'] is not None:\n",
    "        pipeline = result['Pipeline']\n",
    "        y_prob = pipeline.predict_proba(X_test)[:, 1]\n",
    "        fpr, tpr, _ = roc_curve(y_test, y_prob)\n",
    "        plt.plot(fpr, tpr, label=f\"{result['Model']} (AUC = {result['AUC-ROC']:.3f})\")\n",
    "\n",
    "plt.plot([0, 1], [0, 1], 'k--')\n",
    "plt.xlabel('Taux de faux positifs')\n",
    "plt.ylabel('Taux de vrais positifs')\n",
    "plt.title('Courbes ROC')\n",
    "plt.legend(loc='lower right')\n",
    "plt.show()"
   ]
  },
  {
   "cell_type": "code",
   "execution_count": null,
   "metadata": {
    "vscode": {
     "languageId": "plaintext"
    }
   },
   "outputs": [],
   "source": [
    "# Trouver le meilleur modèle\n",
    "best_model_idx = results_df['F1 Score'].idxmax()\n",
    "best_model_name = results_df.loc[best_model_idx, 'Model']\n",
    "best_model_pipeline = results[best_model_idx]['Pipeline']\n",
    "\n",
    "print(f\"Le meilleur modèle est: {best_model_name}\")\n",
    "\n",
    "# Définir une grille de paramètres pour ce modèle\n",
    "if best_model_name == 'Random Forest':\n",
    "    param_grid = {\n",
    "        'classifier__n_estimators': [50, 100, 200],\n",
    "        'classifier__max_depth': [None, 10, 20],\n",
    "        'classifier__min_samples_split': [2, 5, 10],\n",
    "        'classifier__min_samples_leaf': [1, 2, 4]\n",
    "    }\n",
    "elif best_model_name == 'Gradient Boosting':\n",
    "    param_grid = {\n",
    "        'classifier__n_estimators': [50, 100, 200],\n",
    "        'classifier__learning_rate': [0.01, 0.1, 0.2],\n",
    "        'classifier__max_depth': [3, 5, 7]\n",
    "    }\n",
    "elif best_model_name == 'Logistic Regression':\n",
    "    param_grid = {\n",
    "        'classifier__C': [0.1, 1.0, 10.0],\n",
    "        'classifier__solver': ['liblinear', 'lbfgs'],\n",
    "        'classifier__penalty': ['l1', 'l2']\n",
    "    }\n",
    "    \n",
    "# Effectuer une recherche par grille avec validation croisée\n",
    "grid_search = GridSearchCV(\n",
    "    best_model_pipeline,\n",
    "    param_grid,\n",
    "    cv=5,\n",
    "    scoring='f1',\n",
    "    n_jobs=-1,\n",
    "    verbose=1\n",
    ")\n",
    "\n",
    "print(f\"Recherche des meilleurs paramètres pour {best_model_name}...\")\n",
    "grid_search.fit(X_train, y_train)\n",
    "\n",
    "print(f\"Meilleurs paramètres: {grid_search.best_params_}\")\n",
    "print(f\"Meilleur score de validation croisée: {grid_search.best_score_:.4f}\")"
   ]
  },
  {
   "cell_type": "code",
   "execution_count": null,
   "metadata": {
    "vscode": {
     "languageId": "plaintext"
    }
   },
   "outputs": [],
   "source": [
    "# Évaluer le modèle optimisé\n",
    "best_model = grid_search.best_estimator_\n",
    "y_pred_best = best_model.predict(X_test)\n",
    "\n",
    "print(\"\\nÉvaluation du modèle optimisé:\")\n",
    "print(f\"Accuracy: {accuracy_score(y_test, y_pred_best):.4f}\")\n",
    "print(f\"Precision: {precision_score(y_test, y_pred_best):.4f}\")\n",
    "print(f\"Recall: {recall_score(y_test, y_pred_best):.4f}\")\n",
    "print(f\"F1 Score: {f1_score(y_test, y_pred_best):.4f}\")"
   ]
  },
  {
   "cell_type": "code",
   "execution_count": null,
   "metadata": {
    "vscode": {
     "languageId": "plaintext"
    }
   },
   "outputs": [],
   "source": [
    "# Afficher le rapport de classification\n",
    "print(\"\\nRapport de classification détaillé:\")\n",
    "print(classification_report(y_test, y_pred_best))"
   ]
  },
  {
   "cell_type": "code",
   "execution_count": null,
   "metadata": {
    "vscode": {
     "languageId": "plaintext"
    }
   },
   "outputs": [],
   "source": [
    "# Matrice de confusion\n",
    "cm_best = confusion_matrix(y_test, y_pred_best)\n",
    "plt.figure(figsize=(8, 6))\n",
    "sns.heatmap(cm_best, annot=True, fmt='d', cmap='Blues')\n",
    "plt.title('Matrice de confusion du modèle optimisé')\n",
    "plt.ylabel('Valeur réelle')\n",
    "plt.xlabel('Valeur prédite')\n",
    "plt.show()"
   ]
  },
  {
   "cell_type": "code",
   "execution_count": null,
   "metadata": {
    "vscode": {
     "languageId": "plaintext"
    }
   },
   "outputs": [],
   "source": [
    "# Importance des variables (si le modèle le supporte)\n",
    "if hasattr(best_model.named_steps['classifier'], 'feature_importances_'):\n",
    "    # Récupérer les noms des variables transformées\n",
    "    preprocessor = best_model.named_steps['preprocessor']\n",
    "    feature_names = []\n",
    "    \n",
    "    # Essayer de récupérer les noms des variables à partir du transformer\n",
    "    for name, transformer, columns in preprocessor.transformers_:\n",
    "        if name != 'remainder':\n",
    "            if hasattr(transformer, 'get_feature_names_out'):\n",
    "                trans_feature_names = transformer.get_feature_names_out(columns)\n",
    "            else:\n",
    "                trans_feature_names = columns\n",
    "            feature_names.extend(trans_feature_names)\n",
    "    \n",
    "    # Récupérer les importances\n",
    "    importances = best_model.named_steps['classifier'].feature_importances_\n",
    "    \n",
    "    # Créer un DataFrame pour la visualisation\n",
    "    if len(feature_names) == len(importances):\n",
    "        feature_importance = pd.DataFrame({\n",
    "            'feature': feature_names,\n",
    "            'importance': importances\n",
    "        }).sort_values('importance', ascending=False)\n",
    "        \n",
    "        # Afficher les 20 variables les plus importantes\n",
    "        plt.figure(figsize=(12, 8))\n",
    "        top_n = min(20, len(feature_importance))\n",
    "        sns.barplot(x='importance', y='feature', data=feature_importance.head(top_n))\n",
    "        plt.title(f'Top {top_n} variables les plus importantes')\n",
    "        plt.xlabel('Importance')\n",
    "        plt.ylabel('Variable')\n",
    "        plt.tight_layout()\n",
    "        plt.show()\n",
    "        \n",
    "        # Afficher le tableau des importances\n",
    "        print(f\"\\nTop {top_n} variables les plus importantes:\")\n",
    "        display(feature_importance.head(top_n))"
   ]
  },
  {
   "cell_type": "code",
   "execution_count": null,
   "metadata": {
    "vscode": {
     "languageId": "plaintext"
    }
   },
   "outputs": [],
   "source": [
    "## 6. Sauvegarder le modèle final\n",
    "\n",
    "# Créer le dossier models s'il n'existe pas\n",
    "os.makedirs(os.path.join('..', 'models'), exist_ok=True)\n",
    "\n",
    "# Chemin pour sauvegarder le modèle\n",
    "model_path = os.path.join('..', 'models', 'satisfaction_model.pkl')\n",
    "\n",
    "# Sauvegarder le modèle optimisé\n",
    "joblib.dump(best_model, model_path)\n",
    "print(f\"Modèle sauvegardé à: {model_path}\")\n",
    "\n",
    "# Tester le chargement du modèle\n",
    "loaded_model = joblib.load(model_path)\n",
    "y_pred_loaded = loaded_model.predict(X_test)\n",
    "print(f\"F1 Score du modèle chargé: {f1_score(y_test, y_pred_loaded):.4f}\")"
   ]
  },
  {
   "cell_type": "code",
   "execution_count": null,
   "metadata": {
    "vscode": {
     "languageId": "plaintext"
    }
   },
   "outputs": [],
   "source": [
    "## 7. Test du modèle avec des exemples\n",
    "\n",
    "# Créer quelques exemples de passagers pour tester le modèle\n",
    "test_passengers = [\n",
    "    {\n",
    "        'Age': 35,\n",
    "        'Flight Distance': 1500,\n",
    "        'Inflight wifi service': 4,\n",
    "        'Departure/Arrival time convenient': 4,\n",
    "        'Ease of Online booking': 5,\n",
    "        'Gate location': 3,\n",
    "        'Food and drink': 5,\n",
    "        'Seat comfort': 4,\n",
    "        'Inflight entertainment': 5,\n",
    "        'On-board service': 5,\n",
    "        'Leg room service': 4,\n",
    "        'Baggage handling': 5,\n",
    "        'Checkin service': 4,\n",
    "        'Inflight service': 5,\n",
    "        'Cleanliness': 5,\n",
    "        'Customer Type': 'Loyal Customer',\n",
    "        'Class': 'Business',\n",
    "        'Type of Travel': 'Business travel'\n",
    "    },\n",
    "    {\n",
    "        'Age': 45,\n",
    "        'Flight Distance': 800,\n",
    "        'Inflight wifi service': 2,\n",
    "        'Departure/Arrival time convenient': 3,\n",
    "        'Ease of Online booking': 3,\n",
    "        'Gate location': 2,\n",
    "        'Food and drink': 2,\n",
    "        'Seat comfort': 2,\n",
    "        'Inflight entertainment': 1,\n",
    "        'On-board service': 2,\n",
    "        'Leg room service': 1,\n",
    "        'Baggage handling': 3,\n",
    "        'Checkin service': 3,\n",
    "        'Inflight service': 2,\n",
    "        'Cleanliness': 3,\n",
    "        'Customer Type': 'disloyal Customer',\n",
    "        'Class': 'Eco',\n",
    "        'Type of Travel': 'Personal Travel'\n",
    "    }\n",
    "]\n",
    "\n",
    "# Convertir en DataFrame\n",
    "test_df = pd.DataFrame(test_passengers)\n",
    "\n",
    "# Prédire la satisfaction\n",
    "test_predictions = loaded_model.predict(test_df)\n",
    "test_probabilities = loaded_model.predict_proba(test_df)\n",
    "\n",
    "# Afficher les résultats\n",
    "for i, passenger in enumerate(test_passengers):\n",
    "    print(f\"\\nPassager {i+1}:\")\n",
    "    print(f\"Type de client: {passenger['Customer Type']}\")\n",
    "    print(f\"Classe: {passenger['Class']}\")\n",
    "    print(f\"Type de voyage: {passenger['Type of Travel']}\")\n",
    "    print(f\"Prédiction: {'Satisfait' if test_predictions[i] == 1 else 'Non satisfait'}\")\n",
    "    print(f\"Probabilité de satisfaction: {test_probabilities[i][1]:.2f}\")\n",
    "\n",
    "print(\"\\n## Modélisation terminée ##\")"
   ]
  }
 ],
 "metadata": {
  "language_info": {
   "name": "python"
  }
 },
 "nbformat": 4,
 "nbformat_minor": 2
}
